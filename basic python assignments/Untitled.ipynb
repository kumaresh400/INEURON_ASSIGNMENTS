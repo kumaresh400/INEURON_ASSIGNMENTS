{
 "cells": [
  {
   "cell_type": "markdown",
   "id": "ceba4336",
   "metadata": {},
   "source": [
    "# PYTHON BASIC ASSIGNMENT - 1\n"
   ]
  },
  {
   "cell_type": "markdown",
   "id": "72d9abd6",
   "metadata": {},
   "source": [
    "<b>SUBMITTED BY:  KUMARESH.C</b>\n",
    "\n",
    "##  1. In the below elements which of them are values or an expression? eg:- values can be integer or string and expressions will be mathematical operators.<br>\n",
    "`*`,`'hello'`, `-87.8`,`-`,`/`,`+`,`6`\n",
    "\n",
    "<b>ANSWER:</b>  \n",
    "There are total of 4 Operators and 3 Expressions.<br>\n",
    "<b>Operators:</b>  `*`,`-`,`/`,`+`<br>\n",
    "<b>Expressions:</b>  `'hello'`, `87.8`, `6`\n",
    "\n",
    "##  2. What is the difference between string and variable?\n",
    "<b>ANSWER:</b> A Variable is used to store data, and a String is one type of data that may be stored in a Variable. When you first assign a value to a variable, it is created. `x = 9`, `y = \"KUMMY\"` as an example. Variables `x` and `y` are used here.\n",
    "\n",
    "A string is a collection of characters or a single character that is often encased in double quotes `\"\"` or single quotes `''`. In Python, even triple quotes are permissible, but they are often only used to denote multiline strings and docstrings. For instance, `my_string = \"Hello\"`\n",
    "\n",
    "\n",
    "##  3. Describe three different Data Types ?\n",
    "<B>ANSWER</B>: Three fundamental Data types in python are <b>int, float, complex</b>.\n",
    "\n",
    "1.<b>int data type</b>: We can use int data type to represent whole numbers (integer values) Example: `int_num=10`  \n",
    "2.<b>float data type</b>: We can use float data type to represent floating point values (decimal values) Example: `float_num=1.15`  \n",
    "3.<b>complex data type</b>: Complex number is represented by complex class. It is specified as (real part) + (imaginary part)j. Example: `com_num=2+5j`"
   ]
  },
  {
   "cell_type": "code",
   "execution_count": 36,
   "id": "9015b7c0",
   "metadata": {},
   "outputs": [
    {
     "name": "stdout",
     "output_type": "stream",
     "text": [
      "10 <class 'int'>\n",
      "1.15 <class 'float'>\n",
      "(2+5j) <class 'complex'>\n"
     ]
    }
   ],
   "source": [
    "# Example for int data type:\n",
    "int_num=10\n",
    "print(int_num, type(int_num))\n",
    "# Example for float data type:\n",
    "flo_num=1.15\n",
    "print(flo_num, type(flo_num))\n",
    "# Example for Complex data type:\n",
    "com_num=2+5j\n",
    "print(com_num, type(com_num))"
   ]
  },
  {
   "cell_type": "markdown",
   "id": "e5df4946",
   "metadata": {},
   "source": [
    "## 4. What is an expression made up of? What do all expressions do?  \n",
    "\n",
    "\n",
    "<b>ANSWER:</b> A mix of values, variables, operators, and calls to functions makes up an expression. Expressions must be assessed. When an expression is requested to be printed in Python, the interpreter tests the expression and outputs the result. The precedence of an expression's operators determines how it is evaluated. Therefore, if an expression contains multiple operators,their precedence decides which operation will be performed first.\n",
    "\n",
    "\n",
    "\n"
   ]
  },
  {
   "cell_type": "code",
   "execution_count": 37,
   "id": "708cbe2f",
   "metadata": {},
   "outputs": [
    {
     "data": {
      "text/plain": [
       "40"
      ]
     },
     "execution_count": 37,
     "metadata": {},
     "output_type": "execute_result"
    }
   ],
   "source": [
    "10*4+40-40 # Is an Expression, The Python Interpreter Evaluates it to 40"
   ]
  },
  {
   "cell_type": "markdown",
   "id": "40107e53",
   "metadata": {},
   "source": [
    "## 5.This assignment statements, like spam = 10. What is the difference between an expression and a statement?\n",
    "\n",
    "<b>ANSWER:</b> A mix of values, variables, operators, and calls to functions makes up an <b>expression</b>. Expressions must be assessed. When an expression is requested to be printed in Python, the interpreter tests the expression and outputs the result. The precedence of an expression's operators determines how it is evaluated. Therefore, if an expression contains multiple operators,their precedence decides which operation will be performed first.\n",
    "\n",
    "10*4+40-40 # Is an Expression, The Python Interpreter Evaluates it to 40\n",
    "\n",
    "A <b>statement</b> is a piece of code that performs an action, such as establishing a variable or displaying a value.When we type a statement, it is executed by the interpreter, which means it does whatever the statement says. Statements, in general, do not have values. A statement is a piece of code that a Python interpreter can run. In Python, statements are classified into four types: print statements, assignment statements, conditional statements, and looping statements.\n",
    "\n",
    "eg: Name = 'I am going to be a good human', spam = 10"
   ]
  },
  {
   "cell_type": "code",
   "execution_count": 38,
   "id": "9489003e",
   "metadata": {},
   "outputs": [
    {
     "name": "stdout",
     "output_type": "stream",
     "text": [
      "iNeuron\n"
     ]
    }
   ],
   "source": [
    "#Example:\n",
    "10*4+40-40 # Is an Expression\n",
    "Name = 'I am going to be a good human'# Is a Statement\n",
    "print(\"iNeuron\") # Is an Expression Statement\n"
   ]
  },
  {
   "cell_type": "markdown",
   "id": "2d8db3c8",
   "metadata": {},
   "source": [
    "## 6.After running the following code, what does the variable bacon contain?\n",
    "\n",
    "`bacon = 22`  \n",
    "`bacon + 1`\n",
    "\n",
    "<B>ANSWER</B>: The bacon variable is set to 22.The expression bacon + 1 does not reassign the value in bacon (as it would if the expression was bacon = bacon + 1 rather than bacon + 1)."
   ]
  },
  {
   "cell_type": "code",
   "execution_count": 24,
   "id": "9821841b",
   "metadata": {},
   "outputs": [
    {
     "name": "stdout",
     "output_type": "stream",
     "text": [
      "22\n"
     ]
    }
   ],
   "source": [
    "# Example 1\n",
    "bacon=22\n",
    "bacon + 1\n",
    "print(bacon)"
   ]
  },
  {
   "cell_type": "code",
   "execution_count": 23,
   "id": "6f33ffe3",
   "metadata": {},
   "outputs": [
    {
     "name": "stdout",
     "output_type": "stream",
     "text": [
      "23\n"
     ]
    }
   ],
   "source": [
    "#Example 2\n",
    "bacon=22\n",
    "bacon=bacon+1 \n",
    "print(bacon)"
   ]
  },
  {
   "cell_type": "markdown",
   "id": "168cf3b5",
   "metadata": {},
   "source": [
    "## 7.What should the values of the following two terms be?\n",
    "`'spam'+'spamspam'`  \n",
    "`'spam'*3`\n",
    "\n",
    "<B>ANSWER:</B> Both expressions evaluate to the string <b>'spamspamspam'</B> Where as the first expression follows <B>String Concatentation</B> and the second expression follows <B>String Multiplication</B>"
   ]
  },
  {
   "cell_type": "code",
   "execution_count": 25,
   "id": "a0ddf742",
   "metadata": {},
   "outputs": [
    {
     "name": "stdout",
     "output_type": "stream",
     "text": [
      "spamspamspam\n",
      "spamspamspam\n"
     ]
    }
   ],
   "source": [
    "print('spam'+'spamspam') # string concatenation\n",
    "print('spam'*3) # string multiplication"
   ]
  },
  {
   "cell_type": "markdown",
   "id": "5da36966",
   "metadata": {},
   "source": [
    "## 8. Why is eggs a valid variable name while 100 is invalid?\n",
    "\n",
    "<B>ANSWER:</B> According to python, Variable names cannot begin with a number. Python's variable naming conventions are as follows:\n",
    "\n",
    "1.A letter or the underscore character must precede the variable name.  \n",
    "2.Variable names must not begin with a number.  \n",
    "3.Variable names are limited to alphanumeric characters and underscores (A-z, 0-9, and _).  \n",
    "4.Variable names are case sensitive (for example, name, KUMMY, and kummy are all distinct variables).  \n",
    "5.Reserved words (keywords) cannot be used to name variables."
   ]
  },
  {
   "cell_type": "code",
   "execution_count": 35,
   "id": "5a944191",
   "metadata": {},
   "outputs": [
    {
     "ename": "SyntaxError",
     "evalue": "cannot assign to literal (3405369012.py, line 2)",
     "output_type": "error",
     "traceback": [
      "\u001b[1;36m  File \u001b[1;32m\"C:\\Users\\Asus\\AppData\\Local\\Temp\\ipykernel_3640\\3405369012.py\"\u001b[1;36m, line \u001b[1;32m2\u001b[0m\n\u001b[1;33m    100='hello' # Invalid Variable Initilization (Raises a syntax error)\u001b[0m\n\u001b[1;37m    ^\u001b[0m\n\u001b[1;31mSyntaxError\u001b[0m\u001b[1;31m:\u001b[0m cannot assign to literal\n"
     ]
    }
   ],
   "source": [
    "egg='Mihir' # Valid variable Initilization\n",
    "100='hello' # Invalid Variable Initilization (Raises a syntax error)\n"
   ]
  },
  {
   "cell_type": "markdown",
   "id": "2c6b9d45",
   "metadata": {},
   "source": [
    "## 9.What three functions can be used to get the integer,floating-point number,or string version of a value?\n",
    "<B>ANSWER:</B> The <B>int()</B>, <B>float()</B> and <B>str()</B> functions will evaluate to the integer,floating-point number,string version of the value passed to them."
   ]
  },
  {
   "cell_type": "code",
   "execution_count": 34,
   "id": "504521b1",
   "metadata": {},
   "outputs": [
    {
     "name": "stdout",
     "output_type": "stream",
     "text": [
      "int(5.0) ->  5\n",
      "float(5) ->  5.0\n",
      "str(5) ->  5\n"
     ]
    }
   ],
   "source": [
    "# Examples:\n",
    "print('int(5.0) -> ',int(5.0)) # int() function converts given input to int\n",
    "print('float(5) -> ',float(5)) # float() function converts given input to float\n",
    "print('str(5) -> ',str(5)) # str() function converts given input to string"
   ]
  },
  {
   "cell_type": "markdown",
   "id": "036b8032",
   "metadata": {},
   "source": [
    "## 10.Why does this expression cause an error? how can you fix it?\n",
    "`'I have eaten ' + 99 + 'burritos.'`\n",
    "\n",
    "<B>ANSWER</B>: This cause of error is 99.because 99 is not a string. 99 must be typecasted to a string to fix this error. The correct way of representing is mentioned below:  \n",
    "Input: `'I have eaten ' + str(99) + 'burritos.'`  \n",
    "Output: `'I have eaten 99 burritos.'`"
   ]
  },
  {
   "cell_type": "code",
   "execution_count": 39,
   "id": "7558fb6b",
   "metadata": {},
   "outputs": [
    {
     "name": "stdout",
     "output_type": "stream",
     "text": [
      "I have eaten 99 burritos\n"
     ]
    }
   ],
   "source": [
    "print('I have eaten '+str(99)+' burritos')"
   ]
  }
 ],
 "metadata": {
  "kernelspec": {
   "display_name": "Python 3 (ipykernel)",
   "language": "python",
   "name": "python3"
  },
  "language_info": {
   "codemirror_mode": {
    "name": "ipython",
    "version": 3
   },
   "file_extension": ".py",
   "mimetype": "text/x-python",
   "name": "python",
   "nbconvert_exporter": "python",
   "pygments_lexer": "ipython3",
   "version": "3.9.13"
  }
 },
 "nbformat": 4,
 "nbformat_minor": 5
}
